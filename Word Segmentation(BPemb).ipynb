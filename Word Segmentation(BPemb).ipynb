{
 "cells": [
  {
   "cell_type": "markdown",
   "metadata": {},
   "source": [
    "# BPEmb\n",
    "\n"
   ]
  },
  {
   "cell_type": "markdown",
   "metadata": {},
   "source": [
    "BPEmb is a collection of pre-trained subword embeddings in 275 languages, based on Byte-Pair Encoding (BPE) and trained on Wikipedia. Its intended use is as input for neural models in natural language processing."
   ]
  },
  {
   "cell_type": "code",
   "execution_count": 5,
   "metadata": {},
   "outputs": [
    {
     "data": {
      "text/plain": [
       "['▁ကျောင်းသားများ', 'စာသင်ခန်း', 'ထဲတွင်', 'ရှိသည်']"
      ]
     },
     "execution_count": 5,
     "metadata": {},
     "output_type": "execute_result"
    }
   ],
   "source": [
    "from bpemb import BPEmb\n",
    "bpemb_my = BPEmb(lang=\"my\", vs=200000)\n",
    "bpemb_my.encode(\"ကျောင်းသားများစာသင်ခန်းထဲတွင်ရှိသည်\")"
   ]
  },
  {
   "cell_type": "code",
   "execution_count": 3,
   "metadata": {},
   "outputs": [
    {
     "data": {
      "text/plain": [
       "['▁မြန်မာစာ', 'မြန်မာစကား']"
      ]
     },
     "execution_count": 3,
     "metadata": {},
     "output_type": "execute_result"
    }
   ],
   "source": [
    "bpemb_my.encode(\"မြန်မာစာမြန်မာစကား\")\n"
   ]
  },
  {
   "cell_type": "code",
   "execution_count": 4,
   "metadata": {},
   "outputs": [
    {
     "data": {
      "text/plain": [
       "[('တပ်ဦးခေါင်းဆောင်', 0.7082316875457764),\n",
       " ('▁ကျောင်းသား', 0.6913078427314758),\n",
       " ('▁ကျောင်းသူ', 0.6410273313522339),\n",
       " ('▁ကောလိပ်', 0.618316113948822),\n",
       " ('သင်တန်းရေးရာဌာန', 0.6142712831497192),\n",
       " ('ကျောင်းသူ', 0.5871660709381104),\n",
       " ('ခေါင်းဆောင်', 0.587018609046936),\n",
       " ('ကျောင်းသားများ', 0.5768399238586426),\n",
       " ('▁တက္ကသိုလ်', 0.571060061454773),\n",
       " ('▁သပိတ်မှောက်', 0.5405313968658447)]"
      ]
     },
     "execution_count": 4,
     "metadata": {},
     "output_type": "execute_result"
    }
   ],
   "source": [
    "bpemb_my.most_similar(\"ကျောင်းသား\")"
   ]
  },
  {
   "cell_type": "code",
   "execution_count": null,
   "metadata": {},
   "outputs": [],
   "source": []
  }
 ],
 "metadata": {
  "kernelspec": {
   "display_name": "Python 3",
   "language": "python",
   "name": "python3"
  },
  "language_info": {
   "codemirror_mode": {
    "name": "ipython",
    "version": 3
   },
   "file_extension": ".py",
   "mimetype": "text/x-python",
   "name": "python",
   "nbconvert_exporter": "python",
   "pygments_lexer": "ipython3",
   "version": "3.7.4"
  }
 },
 "nbformat": 4,
 "nbformat_minor": 2
}
